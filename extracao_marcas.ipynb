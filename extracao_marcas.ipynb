{
  "nbformat": 4,
  "nbformat_minor": 0,
  "metadata": {
    "colab": {
      "name": "extracao_marcas.ipynb",
      "provenance": [],
      "authorship_tag": "ABX9TyOiwLJ5hbursfkr3TWP1ff8",
      "include_colab_link": true
    },
    "kernelspec": {
      "name": "python3",
      "display_name": "Python 3"
    },
    "language_info": {
      "name": "python"
    }
  },
  "cells": [
    {
      "cell_type": "markdown",
      "metadata": {
        "id": "view-in-github",
        "colab_type": "text"
      },
      "source": [
        "<a href=\"https://colab.research.google.com/github/davicn/brincadeiras/blob/combustivel/extracao_marcas.ipynb\" target=\"_parent\"><img src=\"https://colab.research.google.com/assets/colab-badge.svg\" alt=\"Open In Colab\"/></a>"
      ]
    },
    {
      "cell_type": "code",
      "execution_count": 2,
      "metadata": {
        "id": "ko-9b-5lIGtE"
      },
      "outputs": [],
      "source": [
        "import requests\n",
        "from bs4 import BeautifulSoup"
      ]
    },
    {
      "cell_type": "code",
      "source": [
        "html = requests.get('https://combustivel.app/carros')\n",
        "\n",
        "page = BeautifulSoup(html.text, 'html.parser')"
      ],
      "metadata": {
        "id": "XSTJUZp7J_n4"
      },
      "execution_count": 10,
      "outputs": []
    },
    {
      "cell_type": "markdown",
      "source": [
        "## Agrupando metadados marcas e Carros"
      ],
      "metadata": {
        "id": "yC0e6xN1K12O"
      }
    },
    {
      "cell_type": "code",
      "source": [
        "section = page.find(class_='box entry-content fw')"
      ],
      "metadata": {
        "id": "BW4gG6a0KLzY"
      },
      "execution_count": 11,
      "outputs": []
    },
    {
      "cell_type": "code",
      "source": [
        "marcas = section.find_all('h3')\n",
        "carros = section.find_all('ul')\n"
      ],
      "metadata": {
        "id": "SmQiXDECLHdU"
      },
      "execution_count": 21,
      "outputs": []
    },
    {
      "cell_type": "markdown",
      "source": [
        "### Processando Marcas"
      ],
      "metadata": {
        "id": "rkI2Y2EMM4w8"
      }
    },
    {
      "cell_type": "code",
      "source": [
        "def get_infos_marcas(item):\n",
        "    nome, link = list(item.children)\n",
        "    result = {'marca':nome.strip(),'link':link['href']}\n",
        "    return result\n",
        "\n",
        "marcas = [get_infos_marcas(marca) for marca in marcas]"
      ],
      "metadata": {
        "id": "izoSLFPwM8jh"
      },
      "execution_count": 42,
      "outputs": []
    },
    {
      "cell_type": "markdown",
      "source": [
        "### Processando carros"
      ],
      "metadata": {
        "id": "HF1rfgFOPa8m"
      }
    },
    {
      "cell_type": "code",
      "source": [
        "def get_infos_marcas(item):\n",
        "    cars = []\n",
        "    \n",
        "    for i in item:\n",
        "        d = {}\n",
        "        d['nome'] = i.find('a').text\n",
        "        d['link'] = i.find('a').get('href')\n",
        "        cars.append(d)\n",
        "\n",
        "    return cars\n",
        "\n",
        "carros = [get_infos_marcas(carro) for carro in carros]"
      ],
      "metadata": {
        "id": "bwl77KEnPfax"
      },
      "execution_count": 57,
      "outputs": []
    },
    {
      "cell_type": "markdown",
      "source": [
        "### Agrupando dados"
      ],
      "metadata": {
        "id": "oJEfXe0iTEBL"
      }
    },
    {
      "cell_type": "code",
      "source": [
        "all = []\n",
        "\n",
        "for marca, carro in zip(marcas,carros):\n",
        "    temp = marca\n",
        "    temp['carros']=carro\n",
        "    all.append(temp)\n"
      ],
      "metadata": {
        "id": "d1rpKA48THkE"
      },
      "execution_count": 68,
      "outputs": []
    }
  ]
}