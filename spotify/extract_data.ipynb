{
 "cells": [
  {
   "cell_type": "markdown",
   "metadata": {},
   "source": [
    "# Extração da Dados\n",
    "- Via Spotify API"
   ]
  },
  {
   "cell_type": "code",
   "execution_count": 35,
   "metadata": {},
   "outputs": [],
   "source": [
    "import json\n",
    "\n",
    "with open('config.json') as json_file:\n",
    "    config = json.load(json_file)\n",
    "    \n"
   ]
  },
  {
   "cell_type": "code",
   "execution_count": 36,
   "metadata": {},
   "outputs": [],
   "source": [
    "import requests\n",
    "\n",
    "def request_data(url,params=None)-> dict:\n",
    "    headers = {\n",
    "        'Accept': 'application/json',\n",
    "        'Content-Type': 'application/json',\n",
    "        'Authorization': config['token'],\n",
    "    }\n",
    "    \n",
    "    response = requests.get(url=url, headers=headers, params=params)\n",
    "\n",
    "    return response.json()"
   ]
  },
  {
   "cell_type": "markdown",
   "metadata": {},
   "source": [
    "## Dados de Usuário"
   ]
  },
  {
   "cell_type": "code",
   "execution_count": 37,
   "metadata": {},
   "outputs": [],
   "source": [
    "data = request_data(url='https://api.spotify.com/v1/me')\n",
    "\n",
    "user = {\n",
    "    'images' :data['images'][0]['url'],\n",
    "    'display_name' :data['display_name'],\n",
    "    'followers' :data['followers']['total']\n",
    "    }\n"
   ]
  },
  {
   "cell_type": "markdown",
   "metadata": {},
   "source": [
    "## Meus Álbuns Salvos"
   ]
  },
  {
   "cell_type": "code",
   "execution_count": 38,
   "metadata": {},
   "outputs": [],
   "source": [
    "data = request_data(url = 'https://api.spotify.com/v1/me/albums',\n",
    "                    params=(('limit', '50'),))"
   ]
  },
  {
   "cell_type": "code",
   "execution_count": 40,
   "metadata": {},
   "outputs": [],
   "source": [
    "def get_into_album(item):\n",
    "    d = {\n",
    "        \"id\" : item['id'],\n",
    "        \"external_urls\" : item['external_urls']['spotify'],\n",
    "        \"images\" : item['images'][0]['url'],\n",
    "        \"name\" : item['name'],\n",
    "        \"artist\" : item['artists'][0]['name']\n",
    "    }\n",
    "    return d\n",
    "\n",
    "albuns = []\n",
    "\n",
    "for item in data['items']:\n",
    "    d = get_into_album(item['album'])\n",
    "    albuns.append(d)\n"
   ]
  },
  {
   "cell_type": "markdown",
   "metadata": {},
   "source": [
    "# Minhas Playslists"
   ]
  },
  {
   "cell_type": "code",
   "execution_count": 41,
   "metadata": {},
   "outputs": [],
   "source": [
    "data = request_data(url = 'https://api.spotify.com/v1/me/playlists',\n",
    "                    params=(('limit', '50'),))\n",
    "                    \n"
   ]
  },
  {
   "cell_type": "code",
   "execution_count": 42,
   "metadata": {},
   "outputs": [],
   "source": [
    "def get_info_playlist(item):\n",
    "    d = {\n",
    "        'external_urls':item['external_urls']['spotify'],\n",
    "        'id':item['id'],\n",
    "        'images':item['images'][0]['url'],\n",
    "        'name':item['name']\n",
    "    }\n",
    "    return d \n",
    "\n",
    "playlist = []\n",
    "\n",
    "for item in data['items']:\n",
    "    d = get_info_playlist(item)\n",
    "    playlist.append(d)"
   ]
  }
 ],
 "metadata": {
  "interpreter": {
   "hash": "916dbcbb3f70747c44a77c7bcd40155683ae19c65e1c03b4aa3499c5328201f1"
  },
  "kernelspec": {
   "display_name": "Python 3.8.10 64-bit",
   "language": "python",
   "name": "python3"
  },
  "language_info": {
   "codemirror_mode": {
    "name": "ipython",
    "version": 3
   },
   "file_extension": ".py",
   "mimetype": "text/x-python",
   "name": "python",
   "nbconvert_exporter": "python",
   "pygments_lexer": "ipython3",
   "version": "3.8.10"
  },
  "orig_nbformat": 4
 },
 "nbformat": 4,
 "nbformat_minor": 2
}
