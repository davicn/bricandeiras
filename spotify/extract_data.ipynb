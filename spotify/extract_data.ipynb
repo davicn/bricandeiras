{
 "cells": [
  {
   "cell_type": "markdown",
   "metadata": {},
   "source": [
    "# Extração da Dados\n",
    "- Via Spotify API"
   ]
  },
  {
   "cell_type": "code",
   "execution_count": 1,
   "metadata": {},
   "outputs": [],
   "source": [
    "import json\n",
    "\n",
    "with open('config.json') as json_file:\n",
    "    config = json.load(json_file)\n",
    "    \n"
   ]
  },
  {
   "cell_type": "code",
   "execution_count": 2,
   "metadata": {},
   "outputs": [],
   "source": [
    "import requests\n",
    "\n",
    "def request_data(url,params=None)-> dict:\n",
    "    headers = {\n",
    "        'Accept': 'application/json',\n",
    "        'Content-Type': 'application/json',\n",
    "        'Authorization': config['token'],\n",
    "    }\n",
    "    \n",
    "    response = requests.get(url=url, headers=headers, params=params)\n",
    "\n",
    "    return response.json()"
   ]
  },
  {
   "cell_type": "markdown",
   "metadata": {},
   "source": [
    "## Dados de Usuário"
   ]
  },
  {
   "cell_type": "code",
   "execution_count": 4,
   "metadata": {},
   "outputs": [],
   "source": [
    "data = request_data(url='https://api.spotify.com/v1/me')\n",
    "\n",
    "user = {\n",
    "    'images' :data['images'][0]['url'],\n",
    "    'display_name' :data['display_name'],\n",
    "    'followers' :data['followers']['total']\n",
    "    }\n"
   ]
  },
  {
   "cell_type": "code",
   "execution_count": 6,
   "metadata": {},
   "outputs": [],
   "source": [
    "with open(\"user.json\",\"w\") as out:\n",
    "    json.dump(user, out)"
   ]
  },
  {
   "cell_type": "markdown",
   "metadata": {},
   "source": [
    "## Meus Álbuns Salvos"
   ]
  },
  {
   "cell_type": "code",
   "execution_count": 7,
   "metadata": {},
   "outputs": [],
   "source": [
    "data = request_data(url = 'https://api.spotify.com/v1/me/albums',\n",
    "                    params=(('limit', '50'),))"
   ]
  },
  {
   "cell_type": "code",
   "execution_count": 8,
   "metadata": {},
   "outputs": [],
   "source": [
    "def get_into_album(item)->dict:\n",
    "    d = {\n",
    "        \"id\" : item['id'],\n",
    "        \"external_urls\" : item['external_urls']['spotify'],\n",
    "        \"images\" : item['images'][0]['url'],\n",
    "        \"name\" : item['name'],\n",
    "        \"artist\" : item['artists'][0]['name'],\n",
    "        \"id_artist\" : item['artists'][0]['id']\n",
    "    }\n",
    "    return d\n",
    "\n",
    "albuns = []\n",
    "\n",
    "for item in data['items']:\n",
    "    d = get_into_album(item['album'])\n",
    "    albuns.append(d)\n"
   ]
  },
  {
   "cell_type": "code",
   "execution_count": 9,
   "metadata": {},
   "outputs": [],
   "source": [
    "with open(\"albuns.json\",\"w\") as out:\n",
    "    json.dump(albuns, out)"
   ]
  },
  {
   "cell_type": "code",
   "execution_count": null,
   "metadata": {},
   "outputs": [],
   "source": []
  },
  {
   "cell_type": "markdown",
   "metadata": {},
   "source": [
    "## Artistas de Álbuns\n"
   ]
  },
  {
   "cell_type": "code",
   "execution_count": 10,
   "metadata": {},
   "outputs": [],
   "source": [
    "import numpy as np\n",
    "\n",
    "def get_artist_album(id:str)->dict:\n",
    "    data = request_data(url = f'https://api.spotify.com/v1/artists/{id}')\n",
    "\n",
    "    d = {\n",
    "        'genres':data['genres'],\n",
    "        'external_urls':data['external_urls']['spotify'],\n",
    "        'id':data['id'],\n",
    "        'images':data['images'][0]['url'],\n",
    "        'name':data['name']\n",
    "    }\n",
    "    return d\n",
    "    \n",
    "\n",
    "ids_atists = np.unique([item['id_artist'] for item in albuns])\n",
    "\n",
    "artists_albuns = [get_artist_album(id) for id in ids_atists]"
   ]
  },
  {
   "cell_type": "code",
   "execution_count": 11,
   "metadata": {},
   "outputs": [],
   "source": [
    "with open(\"artists_albuns.json\",\"w\") as out:\n",
    "    json.dump(artists_albuns, out)"
   ]
  },
  {
   "cell_type": "code",
   "execution_count": null,
   "metadata": {},
   "outputs": [],
   "source": []
  },
  {
   "cell_type": "markdown",
   "metadata": {},
   "source": [
    "# Minhas Playslists"
   ]
  },
  {
   "cell_type": "code",
   "execution_count": 12,
   "metadata": {},
   "outputs": [],
   "source": [
    "data = request_data(url = 'https://api.spotify.com/v1/me/playlists',\n",
    "                    params=(('limit', '50'),))"
   ]
  },
  {
   "cell_type": "code",
   "execution_count": 13,
   "metadata": {},
   "outputs": [],
   "source": [
    "def get_info_playlist(item:str)->dict:\n",
    "    d = {\n",
    "        'external_urls':item['external_urls']['spotify'],\n",
    "        'id':item['id'],\n",
    "        'images':item['images'][0]['url'],\n",
    "        'name':item['name']\n",
    "    }\n",
    "    return d \n",
    "\n",
    "playlist = []\n",
    "\n",
    "for item in data['items']:\n",
    "    d = get_info_playlist(item)\n",
    "    playlist.append(d)"
   ]
  },
  {
   "cell_type": "code",
   "execution_count": 14,
   "metadata": {},
   "outputs": [],
   "source": [
    "with open(\"playlist.json\",\"w\") as out:\n",
    "    json.dump(playlist, out)"
   ]
  },
  {
   "cell_type": "markdown",
   "metadata": {},
   "source": [
    "## Músicas de Playlists"
   ]
  },
  {
   "cell_type": "code",
   "execution_count": 15,
   "metadata": {},
   "outputs": [],
   "source": [
    "def get_music_playlist(id:str)->list:\n",
    "    data = request_data(url = f'https://api.spotify.com/v1/playlists/{id}/tracks',\n",
    "                        params=(('limit', '50'),('offset', '0'),))\n",
    "    \n",
    "    items = data['items']\n",
    "    return items\n",
    "    \n",
    "def refactor_track(track:dict,id_playlist:str)->dict:\n",
    "    d = {\n",
    "        'id_playlist':id_playlist,\n",
    "        'id_album':track['track']['album']['id'],\n",
    "        'name_album':track['track']['album']['name'],\n",
    "        'external_urls_album': track['track']['album']['external_urls']['spotify'],\n",
    "        'external_urls_artists':track['track']['artists'][0]['external_urls']['spotify'],\n",
    "        'id_artists':track['track']['artists'][0]['id'],\n",
    "        'name_artists':track['track']['artists'][0]['name'],\n",
    "        'track_duration':track['track']['duration_ms'],\n",
    "        'explicit':track['track']['explicit'],\n",
    "        'external_urls_track': track['track']['external_urls']['spotify'],\n",
    "        'id_track':track['track']['id'],\n",
    "        'name_track':track['track']['name']\n",
    "        }\n",
    "    return d\n",
    "\n",
    "\n",
    "all_tracks = []\n",
    "\n",
    "for item in playlist:\n",
    "    id = item['id']\n",
    "    tracks = get_music_playlist(id)\n",
    "    for track in tracks:\n",
    "        d = refactor_track(track,id)\n",
    "        all_tracks.append(d)\n",
    "\n",
    "\n"
   ]
  },
  {
   "cell_type": "code",
   "execution_count": 16,
   "metadata": {},
   "outputs": [],
   "source": [
    "with open(\"all_tracks.json\",\"w\") as out:\n",
    "    json.dump(all_tracks, out)"
   ]
  },
  {
   "cell_type": "markdown",
   "metadata": {},
   "source": [
    "## Artistas de Playlists"
   ]
  },
  {
   "cell_type": "code",
   "execution_count": 17,
   "metadata": {},
   "outputs": [],
   "source": [
    "import pandas as pd \n",
    "\n",
    "def get_artist_playlist(id_artist:str, id_playlist:str)->dict:\n",
    "    data = request_data(url = f'https://api.spotify.com/v1/artists/{id_artist}')\n",
    "\n",
    "    d = {\n",
    "        'id_playlist':id_playlist,\n",
    "        'genres':data['genres'],\n",
    "        'external_urls':data['external_urls']['spotify'],\n",
    "        'id':data['id'],\n",
    "        'images':data['images'],\n",
    "        'name':data['name']\n",
    "    }\n",
    "    return d\n",
    "    \n",
    "\n",
    "params = [[item['id_artists'],item['id_playlist']] for item in all_tracks]\n",
    "\n",
    "info = pd.DataFrame(data=params,columns=['id_artists','id_playlist']).drop_duplicates()\n",
    "\n",
    "\n",
    "artists_playlists = []\n",
    "\n",
    "for index,row in info.iterrows():\n",
    "    d = get_artist_playlist(row['id_artists'], row['id_playlist'])\n",
    "    artists_playlists.append(d)\n"
   ]
  },
  {
   "cell_type": "code",
   "execution_count": 18,
   "metadata": {},
   "outputs": [],
   "source": [
    "with open(\"artistis_playlists.json\",\"w\") as out:\n",
    "    json.dump(artists_playlists, out)"
   ]
  },
  {
   "cell_type": "code",
   "execution_count": null,
   "metadata": {},
   "outputs": [],
   "source": []
  }
 ],
 "metadata": {
  "interpreter": {
   "hash": "916dbcbb3f70747c44a77c7bcd40155683ae19c65e1c03b4aa3499c5328201f1"
  },
  "kernelspec": {
   "display_name": "Python 3.8.10 64-bit",
   "language": "python",
   "name": "python3"
  },
  "language_info": {
   "codemirror_mode": {
    "name": "ipython",
    "version": 3
   },
   "file_extension": ".py",
   "mimetype": "text/x-python",
   "name": "python",
   "nbconvert_exporter": "python",
   "pygments_lexer": "ipython3",
   "version": "3.8.10"
  },
  "orig_nbformat": 4
 },
 "nbformat": 4,
 "nbformat_minor": 2
}
